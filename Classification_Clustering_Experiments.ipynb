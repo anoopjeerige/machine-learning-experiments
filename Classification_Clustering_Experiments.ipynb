{
 "cells": [
  {
   "cell_type": "markdown",
   "metadata": {},
   "source": [
    "# Classification and Clustering experiments"
   ]
  },
  {
   "cell_type": "markdown",
   "metadata": {
    "collapsed": true
   },
   "source": [
    "# Dataset\n",
    "**SMS Spam Collection Data Set**\n",
    "[https://archive.ics.uci.edu/ml/datasets/SMS+Spam+Collection]\n",
    "\n",
    "**Abstract:**The SMS Spam Collection is a public set of SMS labeled messages that have been collected for mobile phone spam research."
   ]
  },
  {
   "cell_type": "markdown",
   "metadata": {},
   "source": [
    "| Data Set Characteristics  | Associated Tasks | Number of Instances | Number of Attributes |\n",
    "| ------------- | ------------- | ------------- | ------------- |\n",
    "| Text          | Classification, Clustering | 5574  | N/A |"
   ]
  },
  {
   "cell_type": "markdown",
   "metadata": {},
   "source": [
    "# References\n",
    "- http://scikit-learn.org/stable/tutorial/text_analytics/working_with_text_data.html\n",
    "- https://github.com/ageron/handson-ml/blob/master/02_end_to_end_machine_learning_project.ipynb\n",
    "- https://github.com/ageron/handson-ml/blob/master/03_classification.ipynb\n",
    "- https://github.com/jmportilla/Udemy---Machine-Learning/blob/master/NLP%20(Natural%20Language%20Processing).ipynb\n",
    "- http://www.ritchieng.com/machine-learning-evaluate-classification-model/\n",
    "- https://kevinzakka.github.io/2016/07/13/k-nearest-neighbor/#parameter-tuning-with-cross-validation\n",
    "- http://zacstewart.com/2014/08/05/pipelines-of-featureunions-of-pipelines.html"
   ]
  },
  {
   "cell_type": "markdown",
   "metadata": {},
   "source": [
    "## Environment Setup"
   ]
  },
  {
   "cell_type": "code",
   "execution_count": 1,
   "metadata": {
    "collapsed": true
   },
   "outputs": [],
   "source": [
    "import numpy as np\n",
    "import pandas as pd\n",
    "import os\n",
    "\n",
    "# Make notebook's output stable across runs\n",
    "np.random.seed(42)\n",
    "\n",
    "# Set graph parameters\n",
    "%matplotlib inline\n",
    "import matplotlib.pyplot as plt"
   ]
  },
  {
   "cell_type": "markdown",
   "metadata": {},
   "source": [
    "## Load the dataset"
   ]
  },
  {
   "cell_type": "code",
   "execution_count": 2,
   "metadata": {
    "collapsed": true
   },
   "outputs": [],
   "source": [
    "# Set the spam dataset path\n",
    "MESSAGES_PATH = 'datasets\\sms'\n",
    "\n",
    "# Function to load the spam dataset\n",
    "def load_messages_data(messages_path=MESSAGES_PATH):\n",
    "    file_path = os.path.join(messages_path, 'SMSSpamCollection')\n",
    "    return pd.read_csv(file_path, sep='\\t', names=['label', 'message'])"
   ]
  },
  {
   "cell_type": "code",
   "execution_count": 3,
   "metadata": {},
   "outputs": [
    {
     "data": {
      "text/html": [
       "<div>\n",
       "<style>\n",
       "    .dataframe thead tr:only-child th {\n",
       "        text-align: right;\n",
       "    }\n",
       "\n",
       "    .dataframe thead th {\n",
       "        text-align: left;\n",
       "    }\n",
       "\n",
       "    .dataframe tbody tr th {\n",
       "        vertical-align: top;\n",
       "    }\n",
       "</style>\n",
       "<table border=\"1\" class=\"dataframe\">\n",
       "  <thead>\n",
       "    <tr style=\"text-align: right;\">\n",
       "      <th></th>\n",
       "      <th>label</th>\n",
       "      <th>message</th>\n",
       "    </tr>\n",
       "  </thead>\n",
       "  <tbody>\n",
       "    <tr>\n",
       "      <th>0</th>\n",
       "      <td>ham</td>\n",
       "      <td>Go until jurong point, crazy.. Available only ...</td>\n",
       "    </tr>\n",
       "    <tr>\n",
       "      <th>1</th>\n",
       "      <td>ham</td>\n",
       "      <td>Ok lar... Joking wif u oni...</td>\n",
       "    </tr>\n",
       "    <tr>\n",
       "      <th>2</th>\n",
       "      <td>spam</td>\n",
       "      <td>Free entry in 2 a wkly comp to win FA Cup fina...</td>\n",
       "    </tr>\n",
       "    <tr>\n",
       "      <th>3</th>\n",
       "      <td>ham</td>\n",
       "      <td>U dun say so early hor... U c already then say...</td>\n",
       "    </tr>\n",
       "    <tr>\n",
       "      <th>4</th>\n",
       "      <td>ham</td>\n",
       "      <td>Nah I don't think he goes to usf, he lives aro...</td>\n",
       "    </tr>\n",
       "  </tbody>\n",
       "</table>\n",
       "</div>"
      ],
      "text/plain": [
       "  label                                            message\n",
       "0   ham  Go until jurong point, crazy.. Available only ...\n",
       "1   ham                      Ok lar... Joking wif u oni...\n",
       "2  spam  Free entry in 2 a wkly comp to win FA Cup fina...\n",
       "3   ham  U dun say so early hor... U c already then say...\n",
       "4   ham  Nah I don't think he goes to usf, he lives aro..."
      ]
     },
     "execution_count": 3,
     "metadata": {},
     "output_type": "execute_result"
    }
   ],
   "source": [
    "messages = load_messages_data()\n",
    "messages.head()"
   ]
  },
  {
   "cell_type": "code",
   "execution_count": 4,
   "metadata": {},
   "outputs": [
    {
     "data": {
      "text/html": [
       "<div>\n",
       "<style>\n",
       "    .dataframe thead tr:only-child th {\n",
       "        text-align: right;\n",
       "    }\n",
       "\n",
       "    .dataframe thead th {\n",
       "        text-align: left;\n",
       "    }\n",
       "\n",
       "    .dataframe tbody tr th {\n",
       "        vertical-align: top;\n",
       "    }\n",
       "</style>\n",
       "<table border=\"1\" class=\"dataframe\">\n",
       "  <thead>\n",
       "    <tr style=\"text-align: right;\">\n",
       "      <th></th>\n",
       "      <th>label</th>\n",
       "      <th>message</th>\n",
       "    </tr>\n",
       "  </thead>\n",
       "  <tbody>\n",
       "    <tr>\n",
       "      <th>count</th>\n",
       "      <td>5572</td>\n",
       "      <td>5572</td>\n",
       "    </tr>\n",
       "    <tr>\n",
       "      <th>unique</th>\n",
       "      <td>2</td>\n",
       "      <td>5169</td>\n",
       "    </tr>\n",
       "    <tr>\n",
       "      <th>top</th>\n",
       "      <td>ham</td>\n",
       "      <td>Sorry, I'll call later</td>\n",
       "    </tr>\n",
       "    <tr>\n",
       "      <th>freq</th>\n",
       "      <td>4825</td>\n",
       "      <td>30</td>\n",
       "    </tr>\n",
       "  </tbody>\n",
       "</table>\n",
       "</div>"
      ],
      "text/plain": [
       "       label                 message\n",
       "count   5572                    5572\n",
       "unique     2                    5169\n",
       "top      ham  Sorry, I'll call later\n",
       "freq    4825                      30"
      ]
     },
     "execution_count": 4,
     "metadata": {},
     "output_type": "execute_result"
    }
   ],
   "source": [
    "messages.describe()"
   ]
  },
  {
   "cell_type": "code",
   "execution_count": 5,
   "metadata": {},
   "outputs": [
    {
     "name": "stdout",
     "output_type": "stream",
     "text": [
      "<class 'pandas.core.frame.DataFrame'>\n",
      "RangeIndex: 5572 entries, 0 to 5571\n",
      "Data columns (total 2 columns):\n",
      "label      5572 non-null object\n",
      "message    5572 non-null object\n",
      "dtypes: object(2)\n",
      "memory usage: 87.1+ KB\n"
     ]
    }
   ],
   "source": [
    "messages.info()"
   ]
  },
  {
   "cell_type": "markdown",
   "metadata": {},
   "source": [
    "## Sparse to dense transformer\n",
    "- Reference - http://zacstewart.com/2014/08/05/pipelines-of-featureunions-of-pipelines.html\n",
    "- Convert a sparse matrix to a dense numpy array"
   ]
  },
  {
   "cell_type": "code",
   "execution_count": 6,
   "metadata": {
    "collapsed": true
   },
   "outputs": [],
   "source": [
    "from sklearn.base import TransformerMixin\n",
    "\n",
    "class DenseTransformer(TransformerMixin):\n",
    "    \n",
    "    def transform(self, X, y=None):\n",
    "        return X.todense()\n",
    "    \n",
    "    def fit(self, X, y=None):\n",
    "        return self\n",
    "    \n",
    "    def fit_transform(self, X, y=None):\n",
    "        self.fit(X, y)\n",
    "        return self.transform(X)"
   ]
  },
  {
   "cell_type": "markdown",
   "metadata": {},
   "source": [
    "## Experiment 1. \n",
    "Use sklearn.model_selection.train_test_split to split your data into training and test sets."
   ]
  },
  {
   "cell_type": "code",
   "execution_count": 7,
   "metadata": {},
   "outputs": [
    {
     "name": "stdout",
     "output_type": "stream",
     "text": [
      "(1393, 1)\n"
     ]
    }
   ],
   "source": [
    "from sklearn.model_selection import train_test_split\n",
    "from sklearn.preprocessing import label_binarize\n",
    "\n",
    "X_train, X_test, y_train, y_test = train_test_split(messages['message'], messages['label'])\n",
    "y_train = label_binarize(y_train, classes=['spam', 'ham'])\n",
    "y_test = label_binarize(y_test, classes=['spam', 'ham'])\n",
    "print(y_test.shape)"
   ]
  },
  {
   "cell_type": "code",
   "execution_count": 8,
   "metadata": {},
   "outputs": [
    {
     "name": "stdout",
     "output_type": "stream",
     "text": [
      "4179 1393 4179 1393\n"
     ]
    }
   ],
   "source": [
    "print(len(X_train), len(X_test), len(y_train), len(y_test))"
   ]
  },
  {
   "cell_type": "markdown",
   "metadata": {},
   "source": [
    "## Experiment 2.\n",
    "Fit an sklearn.naive_bayes.GaussianNB classifier to your dataset."
   ]
  },
  {
   "cell_type": "code",
   "execution_count": 9,
   "metadata": {
    "collapsed": true
   },
   "outputs": [],
   "source": [
    "# Preprocess the data\n",
    "from sklearn.pipeline import Pipeline\n",
    "from sklearn.feature_extraction.text import CountVectorizer, TfidfTransformer\n",
    "from sklearn.naive_bayes import GaussianNB\n",
    "\n",
    "# Pipeline features - vectorizer -> transformer -> classifier\n",
    "# CountVectorizer - Text Preprocessing, tokenizing, and filtering of stopwords - dictionary of feature indices\n",
    "# TfidfTransformer - Term frequencies, and downscaling weights for words - tf and tf-idf\n",
    "# DenseTransformer - Transform sparse matrix to dense\n",
    "# GaussianNB - Naive Bayes Classifier\n",
    "\n",
    "gnb_pipeline = Pipeline([\n",
    "    ('vect', CountVectorizer()),\n",
    "    ('tfidf', TfidfTransformer()),\n",
    "    ('to_dense', DenseTransformer()),\n",
    "    ('clf', GaussianNB()),\n",
    "])"
   ]
  },
  {
   "cell_type": "code",
   "execution_count": 10,
   "metadata": {},
   "outputs": [
    {
     "data": {
      "text/plain": [
       "Pipeline(memory=None,\n",
       "     steps=[('vect', CountVectorizer(analyzer='word', binary=False, decode_error='strict',\n",
       "        dtype=<class 'numpy.int64'>, encoding='utf-8', input='content',\n",
       "        lowercase=True, max_df=1.0, max_features=None, min_df=1,\n",
       "        ngram_range=(1, 1), preprocessor=None, stop_words=None,\n",
       "        strip...dense', <__main__.DenseTransformer object at 0x000002E8776FEB00>), ('clf', GaussianNB(priors=None))])"
      ]
     },
     "execution_count": 10,
     "metadata": {},
     "output_type": "execute_result"
    }
   ],
   "source": [
    "y_train = y_train.reshape(y_train.shape[0],)\n",
    "gnb_pipeline.fit(X_train, y_train)"
   ]
  },
  {
   "cell_type": "markdown",
   "metadata": {},
   "source": [
    "## Experiment 3.\n",
    "Use your Naive Bayes classifier to predict the labels for your dataset, and evaluate its performance"
   ]
  },
  {
   "cell_type": "code",
   "execution_count": 11,
   "metadata": {
    "collapsed": true
   },
   "outputs": [],
   "source": [
    "y_gnb_pred = gnb_pipeline.predict(X_test)"
   ]
  },
  {
   "cell_type": "code",
   "execution_count": 12,
   "metadata": {},
   "outputs": [
    {
     "name": "stdout",
     "output_type": "stream",
     "text": [
      "             precision    recall  f1-score   support\n",
      "\n",
      "          0       0.91      0.59      0.72       288\n",
      "          1       0.90      0.99      0.94      1105\n",
      "\n",
      "avg / total       0.90      0.90      0.90      1393\n",
      "\n",
      "Accuracy: 0.714939171295\n"
     ]
    }
   ],
   "source": [
    "from sklearn.metrics import roc_curve, classification_report\n",
    "\n",
    "print(classification_report(y_gnb_pred, y_test))\n",
    "print(\"Accuracy:\", np.mean(y_gnb_pred == y_test))"
   ]
  },
  {
   "cell_type": "code",
   "execution_count": 13,
   "metadata": {
    "collapsed": true
   },
   "outputs": [],
   "source": [
    "# Binarize the output\n",
    "from sklearn.metrics import roc_curve\n",
    "\n",
    "y_gnb_pred_prob = gnb_pipeline.predict_proba(X_test)[:, 1]\n",
    "gnb_fpr, gnb_tpr, _ = roc_curve(y_test, y_gnb_pred_prob)\n"
   ]
  },
  {
   "cell_type": "code",
   "execution_count": 14,
   "metadata": {
    "collapsed": true
   },
   "outputs": [],
   "source": [
    "def plot_roc_curve(fpr, tpr, label=None):\n",
    "    plt.plot(fpr, tpr, linewidth=2, label=label)\n",
    "    plt.plot([0, 1], [0, 1], 'k--')\n",
    "    plt.axis([0, 1, 0, 1])\n",
    "    plt.xlabel('False Positive Rate', fontsize=16)\n",
    "    plt.ylabel('True Positive Rate', fontsize=16)"
   ]
  },
  {
   "cell_type": "code",
   "execution_count": 15,
   "metadata": {},
   "outputs": [
    {
     "data": {
      "image/png": "[encoded data removed]",
      "text/plain": [
       "<matplotlib.figure.Figure at 0x2e8776fe9e8>"
      ]
     },
     "metadata": {},
     "output_type": "display_data"
    }
   ],
   "source": [
    "plt.figure(figsize=(8, 6))\n",
    "plot_roc_curve(gnb_fpr, gnb_tpr)\n",
    "plt.show()"
   ]
  },
  {
   "cell_type": "markdown",
   "metadata": {},
   "source": [
    "## Experiment 4.\n",
    "Fit an sklearn.neighbors.KNeighborsClassifier to your dataset,\n",
    "evaluate its sklearn.metrics.zero_one_loss over the range n_neighbors = 5 to n_neighbors = √N"
   ]
  },
  {
   "cell_type": "code",
   "execution_count": 16,
   "metadata": {
    "collapsed": true
   },
   "outputs": [],
   "source": [
    "from sklearn.neighbors import KNeighborsClassifier\n",
    "\n",
    "# Pipeline features - vectorizer -> transformer -> classifier\n",
    "# CountVectorizer - Text Preprocessing, tokenizing, and filtering of stopwords - dictionary of feature indices\n",
    "# TfidfTransformer - Term frequencies, and downscaling weights for words - tf and tf-idf\n",
    "# DenseTransformer - Transform sparse matrix to dense\n",
    "# KNeighborsClassifier - Classifier implementing the k-nearest neighbors vote\n",
    "\n",
    "knn_pipeline = Pipeline([\n",
    "    ('vect', CountVectorizer()),\n",
    "    ('tfidf', TfidfTransformer()),\n",
    "    #('to_dense', DenseTransformer()),\n",
    "    ('clf', KNeighborsClassifier()),\n",
    "])"
   ]
  },
  {
   "cell_type": "code",
   "execution_count": 17,
   "metadata": {},
   "outputs": [
    {
     "data": {
      "text/plain": [
       "Pipeline(memory=None,\n",
       "     steps=[('vect', CountVectorizer(analyzer='word', binary=False, decode_error='strict',\n",
       "        dtype=<class 'numpy.int64'>, encoding='utf-8', input='content',\n",
       "        lowercase=True, max_df=1.0, max_features=None, min_df=1,\n",
       "        ngram_range=(1, 1), preprocessor=None, stop_words=None,\n",
       "        strip...owski',\n",
       "           metric_params=None, n_jobs=1, n_neighbors=5, p=2,\n",
       "           weights='uniform'))])"
      ]
     },
     "execution_count": 17,
     "metadata": {},
     "output_type": "execute_result"
    }
   ],
   "source": [
    "knn_pipeline.fit(X_train, y_train)"
   ]
  },
  {
   "cell_type": "code",
   "execution_count": 18,
   "metadata": {
    "collapsed": true
   },
   "outputs": [],
   "source": [
    "y_knn_pred = knn_pipeline.predict(X_test)"
   ]
  },
  {
   "cell_type": "code",
   "execution_count": 19,
   "metadata": {},
   "outputs": [
    {
     "name": "stdout",
     "output_type": "stream",
     "text": [
      "             precision    recall  f1-score   support\n",
      "\n",
      "          0       0.38      1.00      0.55        71\n",
      "          1       1.00      0.91      0.95      1322\n",
      "\n",
      "avg / total       0.97      0.92      0.93      1393\n",
      "\n",
      "Accuracy: 0.829117384688\n"
     ]
    }
   ],
   "source": [
    "print(classification_report(y_knn_pred, y_test))\n",
    "print(\"Accuracy:\", np.mean(y_knn_pred == y_test))"
   ]
  },
  {
   "cell_type": "markdown",
   "metadata": {},
   "source": [
    "### Evaluate its sklearn.metrics.zero_one_loss over the range n_neighbors = 5 to n_neighbors = √N"
   ]
  },
  {
   "cell_type": "code",
   "execution_count": 20,
   "metadata": {
    "collapsed": true
   },
   "outputs": [],
   "source": [
    "# Pipeline features - vectorizer -> transformer\n",
    "# CountVectorizer - Text Preprocessing, tokenizing, and filtering of stopwords - dictionary of feature indices\n",
    "# TfidfTransformer - Term frequencies, and downscaling weights for words - tf and tf-idf\n",
    "# DenseTransformer - Transform sparse matrix to dense\n",
    "\n",
    "transformer_pipeline = Pipeline([\n",
    "    ('vect', CountVectorizer()),\n",
    "    ('tfidf', TfidfTransformer()),\n",
    "    #('to_dense', DenseTransformer()),\n",
    "])"
   ]
  },
  {
   "cell_type": "code",
   "execution_count": 21,
   "metadata": {
    "collapsed": true
   },
   "outputs": [],
   "source": [
    "X_train_transformed = transformer_pipeline.fit_transform(X_train)"
   ]
  },
  {
   "cell_type": "code",
   "execution_count": 22,
   "metadata": {
    "collapsed": true
   },
   "outputs": [],
   "source": [
    "# Best k zero one loss\n",
    "from math import sqrt\n",
    "from sklearn.model_selection import cross_val_predict\n",
    "from sklearn.metrics import zero_one_loss\n",
    "\n",
    "neighbors = int(sqrt(len(X_train)))\n",
    "\n",
    "knn_err = np.zeros((neighbors,))\n",
    "\n",
    "#knn = KNeighborsClassifier(n_neighbors=k)\n",
    "y_train_r = y_train.reshape(y_train.shape[0],)\n",
    "#y_pred_all = cross_val_predict(knn, X_train_transformed, y_train_r)\n",
    "#knn_err[i] = zero_one_loss(y_pred_all, y_train_r)\n",
    "for i,k in enumerate(range(5, neighbors)):\n",
    "    knn = KNeighborsClassifier(n_neighbors=k)\n",
    "    y_pred_all = cross_val_predict(knn, X_train_transformed, y_train_r)\n",
    "    knn_err[i] = zero_one_loss(y_pred_all, y_train_r)\n",
    "    \n",
    "    "
   ]
  },
  {
   "cell_type": "code",
   "execution_count": 23,
   "metadata": {},
   "outputs": [
    {
     "data": {
      "text/plain": [
       "(64,)"
      ]
     },
     "execution_count": 23,
     "metadata": {},
     "output_type": "execute_result"
    }
   ],
   "source": [
    "knn_err.shape"
   ]
  },
  {
   "cell_type": "code",
   "execution_count": 24,
   "metadata": {},
   "outputs": [
    {
     "data": {
      "image/png": "[encoded data removed]",
      "text/plain": [
       "<matplotlib.figure.Figure at 0x2e800591d68>"
      ]
     },
     "metadata": {},
     "output_type": "display_data"
    }
   ],
   "source": [
    "fig = plt.figure(figsize=(10, 8))\n",
    "ax = fig.add_subplot(111)\n",
    "ax.plot(np.arange(5, neighbors+5), knn_err, label=\"KNN Train Error\")\n",
    "ax.set_ylim((0.0, 0.08))\n",
    "ax.set_xlim((0, 70))\n",
    "ax.set_xlabel('n_neighbours')\n",
    "ax.set_ylabel('error rate')\n",
    "plt.show()"
   ]
  },
  {
   "cell_type": "code",
   "execution_count": 25,
   "metadata": {},
   "outputs": [],
   "source": [
    "cv_scores = []\n",
    "from sklearn.model_selection import cross_val_score\n",
    "for k in range(5, neighbors):\n",
    "    knn = KNeighborsClassifier(n_neighbors=k)\n",
    "    scores = cross_val_score(knn, X_train_transformed, y_train_r, cv=10, scoring='accuracy')\n",
    "    cv_scores.append(scores.mean())"
   ]
  },
  {
   "cell_type": "code",
   "execution_count": 26,
   "metadata": {},
   "outputs": [
    {
     "name": "stdout",
     "output_type": "stream",
     "text": [
      "0.039727296853\n",
      "7\n",
      "12\n"
     ]
    }
   ],
   "source": [
    "neighbors_list = list(range(5,neighbors))\n",
    "MSE = [1 - x for x in cv_scores]\n",
    "print(min(MSE))\n",
    "print(MSE.index(min(MSE)))\n",
    "neighbors_list[MSE.index(min(MSE))]\n",
    "optimal_k = neighbors_list[MSE.index(min(MSE))]\n",
    "print(optimal_k)"
   ]
  },
  {
   "cell_type": "code",
   "execution_count": 27,
   "metadata": {
    "collapsed": true
   },
   "outputs": [],
   "source": [
    "best_knn_pipeline = Pipeline([\n",
    "    ('vect', CountVectorizer()),\n",
    "    ('tfidf', TfidfTransformer()),\n",
    "    #('to_dense', DenseTransformer()),\n",
    "    ('clf', KNeighborsClassifier(n_neighbors=6)),\n",
    "])"
   ]
  },
  {
   "cell_type": "code",
   "execution_count": 28,
   "metadata": {},
   "outputs": [
    {
     "data": {
      "text/plain": [
       "Pipeline(memory=None,\n",
       "     steps=[('vect', CountVectorizer(analyzer='word', binary=False, decode_error='strict',\n",
       "        dtype=<class 'numpy.int64'>, encoding='utf-8', input='content',\n",
       "        lowercase=True, max_df=1.0, max_features=None, min_df=1,\n",
       "        ngram_range=(1, 1), preprocessor=None, stop_words=None,\n",
       "        strip...owski',\n",
       "           metric_params=None, n_jobs=1, n_neighbors=6, p=2,\n",
       "           weights='uniform'))])"
      ]
     },
     "execution_count": 28,
     "metadata": {},
     "output_type": "execute_result"
    }
   ],
   "source": [
    "best_knn_pipeline.fit(X_train, y_train)\n"
   ]
  },
  {
   "cell_type": "code",
   "execution_count": 29,
   "metadata": {
    "collapsed": true
   },
   "outputs": [],
   "source": [
    "y_pred_best_knn = best_knn_pipeline.predict(X_test)"
   ]
  },
  {
   "cell_type": "code",
   "execution_count": 30,
   "metadata": {},
   "outputs": [
    {
     "name": "stdout",
     "output_type": "stream",
     "text": [
      "             precision    recall  f1-score   support\n",
      "\n",
      "          0       0.75      0.99      0.86       141\n",
      "          1       1.00      0.96      0.98      1252\n",
      "\n",
      "avg / total       0.97      0.97      0.97      1393\n",
      "\n",
      "Accuracy: 0.792285702948\n"
     ]
    }
   ],
   "source": [
    "print(classification_report(y_pred_best_knn, y_test))\n",
    "print(\"Accuracy:\", np.mean(y_pred_best_knn == y_test))"
   ]
  },
  {
   "cell_type": "markdown",
   "metadata": {},
   "source": [
    "## Experiment 5.\n",
    "Compare the performance of the Naive Bayes classifier in experiment (3) to the KNN classifier with the best choice for K from experiment (4)"
   ]
  },
  {
   "cell_type": "code",
   "execution_count": 31,
   "metadata": {
    "collapsed": true
   },
   "outputs": [],
   "source": [
    "y_knn_pred_prob = best_knn_pipeline.predict_proba(X_test)[:, 1]\n",
    "knn_fpr, knn_tpr, _ = roc_curve(y_test, y_knn_pred_prob)"
   ]
  },
  {
   "cell_type": "code",
   "execution_count": 32,
   "metadata": {},
   "outputs": [
    {
     "data": {
      "image/png": "[encoded data removed]",
      "text/plain": [
       "<matplotlib.figure.Figure at 0x2e800648d30>"
      ]
     },
     "metadata": {},
     "output_type": "display_data"
    }
   ],
   "source": [
    "plt.figure(figsize=(8, 6))\n",
    "plot_roc_curve(gnb_fpr, gnb_tpr, \"GaussianNB\")\n",
    "plot_roc_curve(knn_fpr, knn_tpr, \"KNN_6\")\n",
    "plt.legend(loc=\"lower right\", fontsize=16)\n",
    "plt.show()"
   ]
  },
  {
   "cell_type": "markdown",
   "metadata": {},
   "source": [
    "## Experiment 6.\n",
    "Fit an sklearn.svm.SVC to your dataset. \n",
    "Compare the sklearn.metrics.zero_one_loss of kernel='linear' and kernel='poly' with degree = 3 and degree = 5"
   ]
  },
  {
   "cell_type": "code",
   "execution_count": 33,
   "metadata": {
    "collapsed": true
   },
   "outputs": [],
   "source": [
    "from sklearn.svm import SVC\n",
    "\n",
    "# Pipeline features - vectorizer -> transformer -> classifier\n",
    "# CountVectorizer - Text Preprocessing, tokenizing, and filtering of stopwords - dictionary of feature indices\n",
    "# TfidfTransformer - Term frequencies, and downscaling weights for words - tf and tf-idf\n",
    "# DenseTransformer - Transform sparse matrix to dense\n",
    "# SVC - C-Support Vector Classification\n",
    "\n",
    "svc_pipeline = Pipeline([\n",
    "    ('vect', CountVectorizer()),\n",
    "    ('tfidf', TfidfTransformer()),\n",
    "    #('to_dense', DenseTransformer()),\n",
    "    ('clf', SVC(kernel='linear')),\n",
    "])"
   ]
  },
  {
   "cell_type": "code",
   "execution_count": 34,
   "metadata": {},
   "outputs": [
    {
     "data": {
      "text/plain": [
       "Pipeline(memory=None,\n",
       "     steps=[('vect', CountVectorizer(analyzer='word', binary=False, decode_error='strict',\n",
       "        dtype=<class 'numpy.int64'>, encoding='utf-8', input='content',\n",
       "        lowercase=True, max_df=1.0, max_features=None, min_df=1,\n",
       "        ngram_range=(1, 1), preprocessor=None, stop_words=None,\n",
       "        strip...,\n",
       "  max_iter=-1, probability=False, random_state=None, shrinking=True,\n",
       "  tol=0.001, verbose=False))])"
      ]
     },
     "execution_count": 34,
     "metadata": {},
     "output_type": "execute_result"
    }
   ],
   "source": [
    "svc_pipeline.fit(X_train, y_train)"
   ]
  },
  {
   "cell_type": "code",
   "execution_count": 35,
   "metadata": {
    "collapsed": true
   },
   "outputs": [],
   "source": [
    "y_svc_pred = svc_pipeline.predict(X_test)"
   ]
  },
  {
   "cell_type": "code",
   "execution_count": 36,
   "metadata": {},
   "outputs": [
    {
     "name": "stdout",
     "output_type": "stream",
     "text": [
      "             precision    recall  f1-score   support\n",
      "\n",
      "          0       0.94      1.00      0.97       174\n",
      "          1       1.00      0.99      1.00      1219\n",
      "\n",
      "avg / total       0.99      0.99      0.99      1393\n",
      "\n",
      "Accuracy: 0.774922195842\n"
     ]
    }
   ],
   "source": [
    "print(classification_report(y_svc_pred, y_test))\n",
    "print(\"Accuracy:\", np.mean(y_svc_pred == y_test))"
   ]
  },
  {
   "cell_type": "code",
   "execution_count": 37,
   "metadata": {},
   "outputs": [
    {
     "data": {
      "text/plain": [
       "array([ 0.,  0.,  0.])"
      ]
     },
     "execution_count": 37,
     "metadata": {},
     "output_type": "execute_result"
    }
   ],
   "source": [
    "svc_err = np.zeros((3))\n",
    "svc_err"
   ]
  },
  {
   "cell_type": "code",
   "execution_count": 38,
   "metadata": {
    "collapsed": true
   },
   "outputs": [],
   "source": [
    "for i, params in enumerate([['linear', 3], ['poly', 3], ['poly', 5]]):\n",
    "    svc = SVC(degree=params[1], kernel=params[0])\n",
    "    y_pred_all = cross_val_predict(svc, X_train_transformed, y_train_r)\n",
    "    svc_err[i] = zero_one_loss(y_pred_all, y_train_r)"
   ]
  },
  {
   "cell_type": "code",
   "execution_count": 39,
   "metadata": {},
   "outputs": [
    {
     "data": {
      "image/png": "[encoded data removed]",
      "text/plain": [
       "<matplotlib.figure.Figure at 0x2e8009f0cc0>"
      ]
     },
     "metadata": {},
     "output_type": "display_data"
    }
   ],
   "source": [
    "fig = plt.figure(figsize=(10, 8))\n",
    "ax = fig.add_subplot(111)\n",
    "ax.plot(np.arange(3), svc_err, label=\"SVC Train Error\")\n",
    "ax.set_ylim((0.0, 0.2))\n",
    "ax.set_xlim((0, 3))\n",
    "ax.set_xlabel('params')\n",
    "ax.set_ylabel('error rate')\n",
    "plt.show()"
   ]
  },
  {
   "cell_type": "markdown",
   "metadata": {},
   "source": [
    "## Experiment 7.\n",
    "Compare the performance of the best SVM from experiment (6) with the performance in experiments (3) and (5). Which classification algorithm performed best for your dataset?"
   ]
  },
  {
   "cell_type": "code",
   "execution_count": 40,
   "metadata": {
    "collapsed": true
   },
   "outputs": [],
   "source": [
    "y_svc_pred_prob = svc_pipeline.decision_function(X_test)\n",
    "svc_fpr, svc_tpr, _ = roc_curve(y_test, y_svc_pred_prob)"
   ]
  },
  {
   "cell_type": "code",
   "execution_count": 41,
   "metadata": {},
   "outputs": [
    {
     "data": {
      "image/png": "[encoded data removed]",
      "text/plain": [
       "<matplotlib.figure.Figure at 0x2e800a61780>"
      ]
     },
     "metadata": {},
     "output_type": "display_data"
    }
   ],
   "source": [
    "plt.figure(figsize=(8, 6))\n",
    "plot_roc_curve(gnb_fpr, gnb_tpr, \"GaussianNB\")\n",
    "plot_roc_curve(knn_fpr, knn_tpr, \"KNN_6\")\n",
    "plot_roc_curve(svc_fpr, svc_tpr, \"SVC_Linear\")\n",
    "plt.legend(loc=\"lower right\", fontsize=16)\n",
    "plt.show()"
   ]
  },
  {
   "cell_type": "markdown",
   "metadata": {},
   "source": [
    "## Experiment 8.\n",
    "Remove the labels from your dataset and run sklearn.cluster.KMeans on the features, with n_clusters set to the number of classes in your dataset. How do the labels_ found by the clustering algorithm compare to the original labels?"
   ]
  },
  {
   "cell_type": "code",
   "execution_count": 42,
   "metadata": {
    "collapsed": true
   },
   "outputs": [],
   "source": [
    "from sklearn.cluster import KMeans\n",
    "\n",
    "# Pipeline features - vectorizer -> transformer -> classifier\n",
    "# CountVectorizer - Text Preprocessing, tokenizing, and filtering of stopwords - dictionary of feature indices\n",
    "# TfidfTransformer - Term frequencies, and downscaling weights for words - tf and tf-idf\n",
    "# DenseTransformer - Transform sparse matrix to dense\n",
    "# KMeans - K-Means clustering\n",
    "\n",
    "kmeans_pipeline = Pipeline([\n",
    "    ('vect', CountVectorizer()),\n",
    "    ('tfidf', TfidfTransformer()),\n",
    "    #('to_dense', DenseTransformer()),\n",
    "    ('clf', KMeans(n_clusters=2)),\n",
    "])"
   ]
  },
  {
   "cell_type": "code",
   "execution_count": 43,
   "metadata": {},
   "outputs": [
    {
     "data": {
      "text/plain": [
       "Pipeline(memory=None,\n",
       "     steps=[('vect', CountVectorizer(analyzer='word', binary=False, decode_error='strict',\n",
       "        dtype=<class 'numpy.int64'>, encoding='utf-8', input='content',\n",
       "        lowercase=True, max_df=1.0, max_features=None, min_df=1,\n",
       "        ngram_range=(1, 1), preprocessor=None, stop_words=None,\n",
       "        strip...2, n_init=10, n_jobs=1, precompute_distances='auto',\n",
       "    random_state=None, tol=0.0001, verbose=0))])"
      ]
     },
     "execution_count": 43,
     "metadata": {},
     "output_type": "execute_result"
    }
   ],
   "source": [
    "kmeans_pipeline.fit(X_train)"
   ]
  },
  {
   "cell_type": "code",
   "execution_count": 44,
   "metadata": {
    "collapsed": true
   },
   "outputs": [],
   "source": [
    "y_kmeans_pred = kmeans_pipeline.predict(X_test)"
   ]
  },
  {
   "cell_type": "code",
   "execution_count": 45,
   "metadata": {},
   "outputs": [
    {
     "name": "stdout",
     "output_type": "stream",
     "text": [
      "(1393,)\n",
      "(1393,)\n",
      "(1393,)\n",
      "Adjusted Rand index: -0.0452090139922\n"
     ]
    }
   ],
   "source": [
    "from sklearn.metrics import adjusted_rand_score, adjusted_mutual_info_score\n",
    "print(y_kmeans_pred.shape)\n",
    "y_test_t = y_test.reshape(y_test.shape[0],)\n",
    "print(y_test_t.shape)\n",
    "print(y_test.reshape(y_test.shape[0],).shape)\n",
    "print(\"Adjusted Rand index:\", adjusted_rand_score(y_test_t, y_kmeans_pred))"
   ]
  },
  {
   "cell_type": "code",
   "execution_count": 46,
   "metadata": {},
   "outputs": [
    {
     "data": {
      "text/plain": [
       "array([0, 0, 0, ..., 0, 0, 1])"
      ]
     },
     "execution_count": 46,
     "metadata": {},
     "output_type": "execute_result"
    }
   ],
   "source": [
    "y_kmeans_pred"
   ]
  },
  {
   "cell_type": "code",
   "execution_count": 47,
   "metadata": {},
   "outputs": [
    {
     "data": {
      "text/plain": [
       "array([1, 1, 1, ..., 1, 1, 1])"
      ]
     },
     "execution_count": 47,
     "metadata": {},
     "output_type": "execute_result"
    }
   ],
   "source": [
    "y_test_t"
   ]
  },
  {
   "cell_type": "code",
   "execution_count": 48,
   "metadata": {},
   "outputs": [
    {
     "name": "stdout",
     "output_type": "stream",
     "text": [
      "Adjusted Rand index: -0.0662308523836\n"
     ]
    },
    {
     "data": {
      "text/plain": [
       "array([0, 1, 1, ..., 0, 0, 0])"
      ]
     },
     "execution_count": 48,
     "metadata": {},
     "output_type": "execute_result"
    }
   ],
   "source": [
    "y_train_reshaped = y_train.reshape(y_train.shape[0],)\n",
    "print(\"Adjusted Rand index:\", adjusted_rand_score(y_train_reshaped, kmeans_pipeline.steps[2][1].labels_))\n",
    "kmeans_pipeline.steps[2][1].labels_"
   ]
  },
  {
   "cell_type": "code",
   "execution_count": 49,
   "metadata": {},
   "outputs": [
    {
     "data": {
      "text/plain": [
       "array([0, 1, 1, ..., 1, 1, 1])"
      ]
     },
     "execution_count": 49,
     "metadata": {},
     "output_type": "execute_result"
    }
   ],
   "source": [
    "y_train_reshaped"
   ]
  },
  {
   "cell_type": "code",
   "execution_count": 50,
   "metadata": {
    "collapsed": true
   },
   "outputs": [],
   "source": [
    "km_fpr, km_tpr, _ = roc_curve(y_train_reshaped, kmeans_pipeline.steps[2][1].labels_)"
   ]
  },
  {
   "cell_type": "code",
   "execution_count": 51,
   "metadata": {},
   "outputs": [
    {
     "data": {
      "image/png": "[encoded data removed]",
      "text/plain": [
       "<matplotlib.figure.Figure at 0x2e801f3db70>"
      ]
     },
     "metadata": {},
     "output_type": "display_data"
    }
   ],
   "source": [
    "plt.figure(figsize=(8, 6))\n",
    "plot_roc_curve(gnb_fpr, gnb_tpr, \"GaussianNB\")\n",
    "plot_roc_curve(knn_fpr, knn_tpr, \"KNN n=6\")\n",
    "plot_roc_curve(svc_fpr, svc_tpr, \"SVC kernel=linear\")\n",
    "plot_roc_curve(km_fpr, km_tpr, \"KMEANS\")\n",
    "plt.legend(loc=\"lower right\", fontsize=16)\n",
    "plt.show()"
   ]
  }
 ],
 "metadata": {
  "kernelspec": {
   "display_name": "Python 3",
   "language": "python",
   "name": "python3"
  },
  "language_info": {
   "codemirror_mode": {
    "name": "ipython",
    "version": 3
   },
   "file_extension": ".py",
   "mimetype": "text/x-python",
   "name": "python",
   "nbconvert_exporter": "python",
   "pygments_lexer": "ipython3",
   "version": "3.6.1"
  }
 },
 "nbformat": 4,
 "nbformat_minor": 2
}
